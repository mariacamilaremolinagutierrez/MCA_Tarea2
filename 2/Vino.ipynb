{
 "cells": [
  {
   "cell_type": "markdown",
   "metadata": {},
   "source": [
    "#Vino"
   ]
  },
  {
   "cell_type": "markdown",
   "metadata": {},
   "source": [
    "Utilizando estos datos sobre vino escriba un notebook de IPython / Jupyter que clasifique de la mejor manera los datos usando: k-means (¿cuántos clusters son el numero óptimo?), PCA (¿cuántas componentes son las óptimas?) y random forests (¿cuántos árboles son las óptimos?). Justifique cuál de los tres metodos produce los mejores resultados de clasificación en este caso."
   ]
  },
  {
   "cell_type": "code",
   "execution_count": 15,
   "metadata": {
    "collapsed": true
   },
   "outputs": [],
   "source": [
    "%matplotlib inline\n",
    "\n",
    "import matplotlib.pyplot as plt\n",
    "import numpy as np\n",
    "import pandas as pd\n",
    "\n",
    "from sklearn.cluster import KMeans"
   ]
  },
  {
   "cell_type": "markdown",
   "metadata": {},
   "source": [
    "#K-Clusters"
   ]
  },
  {
   "cell_type": "code",
   "execution_count": 16,
   "metadata": {
    "collapsed": true
   },
   "outputs": [],
   "source": [
    "df = pd.read_csv('wine.data')\n",
    "df.columns = ['class', 'alcohol', 'malic acid', 'ash', 'alcalinity of ash', 'magnesium', 'total phenols', \n",
    "              'flavanoids', 'nonflavanoid phenols', 'proanthocyanins', 'color intensity', 'hue', \n",
    "              'OD280/OD315 of diluted wines', 'proline']\n",
    "\n",
    "wine_class = df['class']\n",
    "wine_alcohol = df['alcohol']\n",
    "wine_malic = df['malic acid']\n",
    "wine_ash = df['ash']\n",
    "wine_alcalinity = df['alcalinity of ash']\n",
    "wine_magnesium = df['magnesium']\n",
    "wine_phenols = df['total phenols']\n",
    "wine_flavanoids = df['flavanoids']\n",
    "wine_nonfavanoids = df['nonflavanoid phenols']\n",
    "wine_proanth = df['proanthocyanins']\n",
    "wine_color = df['color intensity']\n",
    "wine_hue = df['hue']\n",
    "wine_OD = df['OD280/OD315 of diluted wines']\n",
    "wine_proline = df['proline']\n",
    "\n",
    "df = df.drop('class', 1)"
   ]
  },
  {
   "cell_type": "code",
   "execution_count": 17,
   "metadata": {
    "collapsed": false
   },
   "outputs": [],
   "source": [
    "np.random.seed(1)"
   ]
  },
  {
   "cell_type": "code",
   "execution_count": 18,
   "metadata": {
    "collapsed": false
   },
   "outputs": [],
   "source": [
    "n_wines_training = int(len(wine_class)*0.9)\n",
    "n_wines = len(wine_class) - n_wines_training\n",
    "\n",
    "total_range = range(0, len(wine_class))\n",
    "np.random.shuffle(total_range)\n",
    "\n",
    "wine_indices_training = total_range[:n_wines_training]\n",
    "wine_indices = total_range[n_wines_training:]"
   ]
  },
  {
   "cell_type": "code",
   "execution_count": 19,
   "metadata": {
    "collapsed": false
   },
   "outputs": [],
   "source": [
    "data_training = df.iloc[wine_indices_training]\n",
    "data = df.iloc[wine_indices]\n",
    "\n",
    "targets_training = wine_class.iloc[wine_indices_training]\n",
    "targets = wine_class.iloc[wine_indices]"
   ]
  },
  {
   "cell_type": "markdown",
   "metadata": {},
   "source": [
    "Ahora hallamos los K clusters para n_wines_training valores de K"
   ]
  },
  {
   "cell_type": "code",
   "execution_count": 20,
   "metadata": {
    "collapsed": true
   },
   "outputs": [],
   "source": [
    "ks = np.zeros(n_wines_training-1) \n",
    "inertias = np.zeros(n_wines_training-1) #Sum of distances of samples to their closest cluster center."
   ]
  },
  {
   "cell_type": "code",
   "execution_count": 21,
   "metadata": {
    "collapsed": false
   },
   "outputs": [],
   "source": [
    "for i in range(1, n_wines_training):\n",
    "\n",
    "    km = KMeans(n_clusters=i)\n",
    "    km.fit(data_training, targets_training)\n",
    "\n",
    "    ks[i-1] = i\n",
    "    inertias[i-1] = km.inertia_"
   ]
  },
  {
   "cell_type": "code",
   "execution_count": 22,
   "metadata": {
    "collapsed": false
   },
   "outputs": [
    {
     "data": {
      "text/plain": [
       "<matplotlib.text.Text at 0x7f20936c3510>"
      ]
     },
     "execution_count": 22,
     "metadata": {},
     "output_type": "execute_result"
    },
    {
     "data": {
      "image/png": "[encoded data removed]",
      "text/plain": [
       "<matplotlib.figure.Figure at 0x7f20941ab9d0>"
      ]
     },
     "metadata": {},
     "output_type": "display_data"
    }
   ],
   "source": [
    "plt.figure(figsize=(12,6))\n",
    "plt.plot(ks, inertias)\n",
    "plt.xlabel('$k$')\n",
    "plt.ylabel('$\\mathrm{Inertia}$')"
   ]
  },
  {
   "cell_type": "code",
   "execution_count": 23,
   "metadata": {
    "collapsed": false
   },
   "outputs": [
    {
     "data": {
      "text/plain": [
       "<matplotlib.text.Text at 0x7f2093799a10>"
      ]
     },
     "execution_count": 23,
     "metadata": {},
     "output_type": "execute_result"
    },
    {
     "data": {
      "image/png": "[encoded data removed]",
      "text/plain": [
       "<matplotlib.figure.Figure at 0x7f209352d2d0>"
      ]
     },
     "metadata": {},
     "output_type": "display_data"
    }
   ],
   "source": [
    "plt.figure(figsize=(12,6))\n",
    "plt.plot(ks[:10], inertias[:10])\n",
    "plt.scatter(ks[:10], inertias[:10])\n",
    "plt.xlabel('$k$')\n",
    "plt.ylabel('$\\mathrm{Inertia}$')"
   ]
  },
  {
   "cell_type": "markdown",
   "metadata": {},
   "source": [
    "Entre más grande es $k$, menor es la inercia, lo cual es esperado porque entre más cluster existan se pueden agrupar más cercanos. Sin embargo, con esta logica terminaríamos escgoiendo el número de clusters igual al numero de vinos, lo cual no es lo que queremos. Para evitar esto, no vamos a escoger la inercia minima, sino que vamos a analizar el cambio de inercia por k. Queremos encontrar el punto en el que éste cambio se sature."
   ]
  },
  {
   "cell_type": "code",
   "execution_count": 47,
   "metadata": {
    "collapsed": false
   },
   "outputs": [
    {
     "data": {
      "text/plain": [
       "(0, 12000000.0)"
      ]
     },
     "execution_count": 47,
     "metadata": {},
     "output_type": "execute_result"
    },
    {
     "data": {
      "image/png": "[encoded data removed]",
      "text/plain": [
       "<matplotlib.figure.Figure at 0x7f209342de10>"
      ]
     },
     "metadata": {},
     "output_type": "display_data"
    }
   ],
   "source": [
    "plt.figure(figsize=(12,6))\n",
    "plt.bar(ks[:10], inertias[:10]-inertias[1:11])\n",
    "plt.scatter(ks[:10], inertias[:10]-inertias[1:11])\n",
    "plt.scatter(ks[2:4], inertias[2:4]-inertias[3:5], c='r')\n",
    "plt.hlines(inertias[2:4]-inertias[3:5], 0, 11, linestyle='--', color='r')\n",
    "plt.xlabel('$k$')\n",
    "plt.ylabel('$\\Delta\\mathrm{Inertia}$')\n",
    "plt.xlim(0,11)\n",
    "plt.ylim(0,1.2*1e7)"
   ]
  },
  {
   "cell_type": "markdown",
   "metadata": {},
   "source": [
    "Podemos ver que hay 2 candidatos a $k$ que corresponden a 3 y 4. En la grafica de arriba se ve en 3 la diferencia de inercia entre 3 y 4. En 4 se ve la diferencia de inercia entre 4 y 5. Ahora usaremos otra tecnica para determinar entre $k=3$ y $k=4$ cúal es el número optimo de clusters. Vamos a ver cual de los 2 predice mejor el set de datos de pruebas."
   ]
  },
  {
   "cell_type": "code",
   "execution_count": 57,
   "metadata": {
    "collapsed": false
   },
   "outputs": [
    {
     "name": "stdout",
     "output_type": "stream",
     "text": [
      "[2 0 2 2 1 2 0 1 0 0 1 1 0 2 0 0 0 2 0 2 1 0 2 2 1 0 1 1 1 0 0 2 0 1 2 0 0\n",
      " 0 0 1 1 2 2 2 1 1 2 1 2 0 0 0 2 1 0 2 1 0 2 0 0 1 0 0 2 1 0 1 0 1 2 2 2 2\n",
      " 0 1 0 1 0 0 1 0 1 2 2 0 2 2 2 0 2 0 0 0 2 0 0 0 2 1 2 1 0 2 0 0 0 2 0 2 2\n",
      " 2 1 0 0 2 0 2 2 0 2 2 2 2 1 0 1 0 0 2 1 1 0 2 2 2 0 1 0 2 1]\n",
      "[2 2 1 2 1 3 2 1 2 2 1 1 2 1 2 2 3 1 2 1 1 2 3 2 1 2 1 1 1 2 3 3 3 1 2 2 2\n",
      " 3 2 1 1 2 2 1 1 1 2 1 1 2 2 2 3 1 2 2 1 2 3 2 2 1 3 3 2 1 2 1 2 1 3 3 3 3\n",
      " 2 1 3 1 2 3 1 2 1 3 2 2 1 2 2 3 1 2 2 2 3 2 2 2 3 1 1 1 3 1 2 3 3 1 2 1 2\n",
      " 2 1 3 2 3 3 3 2 2 2 3 3 2 1 2 1 3 2 2 1 1 2 1 1 1 3 1 3 3 1]\n"
     ]
    }
   ],
   "source": [
    "km3 = KMeans(n_clusters=3)\n",
    "km3.fit(data_training)\n",
    "\n",
    "print km3.labels_\n",
    "print np.array(targets_training)\n",
    "\n",
    "predicted_classes_3 = km3.predict(data_training)\n",
    "\n",
    "lab0 = np.where(km3 == 0)[0]\n",
    "lab1 = np.where(km3 == 1)[0]\n",
    "lab2 = np.where(km3 == 2)[0]\n",
    "\n",
    "predicted_classes_3[lab0] = 3\n",
    "predicted_classes_3[lab1] = 3\n",
    " \n",
    "\n"
   ]
  },
  {
   "cell_type": "code",
   "execution_count": 58,
   "metadata": {
    "collapsed": false
   },
   "outputs": [
    {
     "name": "stdout",
     "output_type": "stream",
     "text": [
      "89\n"
     ]
    }
   ],
   "source": [
    "print len(np.where(targets_training-predicted_classes_3 != 0)[0])"
   ]
  },
  {
   "cell_type": "code",
   "execution_count": 26,
   "metadata": {
    "collapsed": true
   },
   "outputs": [],
   "source": [
    "km4 = KMeans(n_clusters=4)\n",
    "km4.fit(data_training, targets_training)\n",
    "\n",
    "predicted_classes_4 = km4.predict(data)"
   ]
  },
  {
   "cell_type": "code",
   "execution_count": 44,
   "metadata": {
    "collapsed": true
   },
   "outputs": [],
   "source": [
    "n_errors_3 = len(np.where(targets-predicted_classes_3 != 0)[0])\n",
    "n_errors_4 = len(np.where(targets-predicted_classes_4 != 0)[0])"
   ]
  },
  {
   "cell_type": "code",
   "execution_count": 43,
   "metadata": {
    "collapsed": false
   },
   "outputs": [
    {
     "name": "stdout",
     "output_type": "stream",
     "text": [
      "[2 2 3 1 2 2 1 1 1 2 2 1 3 3 2 2 2 1 3 3 3 3 3 2 1 1 3 2 3 3 2 3 3 2 3 1]\n",
      "[1 1 3 2 1 1 2 2 2 3 1 2 3 1 1 1 3 2 1 3 3 1 3 1 3 2 3 1 3 3 1 3 1 3 3 2]\n",
      "[1 1 2 0 1 2 0 3 0 2 1 0 2 1 1 1 2 3 1 2 0 2 2 1 2 0 2 1 2 2 1 2 2 0 2 0]\n"
     ]
    }
   ],
   "source": [
    "print np.array(targets)\n",
    "print predicted_classes_3\n",
    "print predicted_classes_4"
   ]
  },
  {
   "cell_type": "code",
   "execution_count": 45,
   "metadata": {
    "collapsed": false
   },
   "outputs": [
    {
     "data": {
      "text/plain": [
       "26"
      ]
     },
     "execution_count": 45,
     "metadata": {},
     "output_type": "execute_result"
    }
   ],
   "source": [
    "n_errors_3"
   ]
  },
  {
   "cell_type": "code",
   "execution_count": 34,
   "metadata": {
    "collapsed": false
   },
   "outputs": [
    {
     "data": {
      "text/plain": [
       "141"
      ]
     },
     "execution_count": 34,
     "metadata": {},
     "output_type": "execute_result"
    }
   ],
   "source": [
    "n_wines_training"
   ]
  },
  {
   "cell_type": "code",
   "execution_count": null,
   "metadata": {
    "collapsed": true
   },
   "outputs": [],
   "source": []
  }
 ],
 "metadata": {
  "kernelspec": {
   "display_name": "Python 2",
   "language": "python",
   "name": "python2"
  },
  "language_info": {
   "codemirror_mode": {
    "name": "ipython",
    "version": 2
   },
   "file_extension": ".py",
   "mimetype": "text/x-python",
   "name": "python",
   "nbconvert_exporter": "python",
   "pygments_lexer": "ipython2",
   "version": "2.7.9"
  }
 },
 "nbformat": 4,
 "nbformat_minor": 0
}
